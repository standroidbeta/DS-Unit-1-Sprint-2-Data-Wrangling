{
  "nbformat": 4,
  "nbformat_minor": 0,
  "metadata": {
    "colab": {
      "name": "DS_Unit_1_Sprint_Challenge_2_Data_Wrangling.ipynb",
      "version": "0.3.2",
      "provenance": [],
      "collapsed_sections": [],
      "include_colab_link": true
    },
    "kernelspec": {
      "name": "python3",
      "display_name": "Python 3"
    }
  },
  "cells": [
    {
      "cell_type": "markdown",
      "metadata": {
        "id": "view-in-github",
        "colab_type": "text"
      },
      "source": [
        "<a href=\"https://colab.research.google.com/github/standroidbeta/DS-Unit-1-Sprint-2-Data-Wrangling/blob/master/Sprintchallenge2/DS_Unit_1_Sprint_Challenge_2_Data_Wrangling.ipynb\" target=\"_parent\"><img src=\"https://colab.research.google.com/assets/colab-badge.svg\" alt=\"Open In Colab\"/></a>"
      ]
    },
    {
      "metadata": {
        "id": "4yMHi_PX9hEz",
        "colab_type": "text"
      },
      "cell_type": "markdown",
      "source": [
        "# Data Science Unit 1 Sprint Challenge 2\n",
        "\n",
        "## Data Wrangling\n",
        "\n",
        "In this Sprint Challenge you will use data from [Gapminder](https://www.gapminder.org/about-gapminder/), a Swedish non-profit co-founded by Hans Rosling. \"Gapminder produces free teaching resources making the world understandable based on reliable statistics.\"\n",
        "- [Cell phones (total), by country and year](https://raw.githubusercontent.com/open-numbers/ddf--gapminder--systema_globalis/master/ddf--datapoints--cell_phones_total--by--geo--time.csv)\n",
        "- [Population (total), by country and year](https://raw.githubusercontent.com/open-numbers/ddf--gapminder--systema_globalis/master/ddf--datapoints--population_total--by--geo--time.csv)\n",
        "- [Geo country codes](https://github.com/open-numbers/ddf--gapminder--systema_globalis/blob/master/ddf--entities--geo--country.csv)\n",
        "\n",
        "These two links have everything you need to successfully complete the Sprint Challenge!\n",
        "- [Pandas documentation: Working with Text Data](https://pandas.pydata.org/pandas-docs/stable/text.html]) (one question)\n",
        "- [Pandas Cheat Sheet](https://github.com/pandas-dev/pandas/blob/master/doc/cheatsheet/Pandas_Cheat_Sheet.pdf) (everything else)"
      ]
    },
    {
      "metadata": {
        "id": "wWEU2GemX68A",
        "colab_type": "text"
      },
      "cell_type": "markdown",
      "source": [
        "## Part 0. Load data\n",
        "\n",
        "You don't need to add or change anything here. Just run this cell and it loads the data for you, into three dataframes."
      ]
    },
    {
      "metadata": {
        "id": "bxKtSi5sRQOl",
        "colab_type": "code",
        "colab": {}
      },
      "cell_type": "code",
      "source": [
        "import pandas as pd\n",
        "\n",
        "cell_phones = pd.read_csv('https://raw.githubusercontent.com/open-numbers/ddf--gapminder--systema_globalis/master/ddf--datapoints--cell_phones_total--by--geo--time.csv')\n",
        "\n",
        "population = pd.read_csv('https://raw.githubusercontent.com/open-numbers/ddf--gapminder--systema_globalis/master/ddf--datapoints--population_total--by--geo--time.csv')\n",
        "\n",
        "geo_country_codes = (pd.read_csv('https://raw.githubusercontent.com/open-numbers/ddf--gapminder--systema_globalis/master/ddf--entities--geo--country.csv')\n",
        "                       .rename(columns={'country': 'geo', 'name': 'country'}))"
      ],
      "execution_count": 0,
      "outputs": []
    },
    {
      "metadata": {
        "id": "xhKmicPAAbxo",
        "colab_type": "code",
        "colab": {
          "base_uri": "https://localhost:8080/",
          "height": 1969
        },
        "outputId": "1b4b67ae-6993-46fa-8a92-fcecca000b85"
      },
      "cell_type": "code",
      "source": [
        "cell_phones"
      ],
      "execution_count": 2,
      "outputs": [
        {
          "output_type": "execute_result",
          "data": {
            "text/html": [
              "<div>\n",
              "<style scoped>\n",
              "    .dataframe tbody tr th:only-of-type {\n",
              "        vertical-align: middle;\n",
              "    }\n",
              "\n",
              "    .dataframe tbody tr th {\n",
              "        vertical-align: top;\n",
              "    }\n",
              "\n",
              "    .dataframe thead th {\n",
              "        text-align: right;\n",
              "    }\n",
              "</style>\n",
              "<table border=\"1\" class=\"dataframe\">\n",
              "  <thead>\n",
              "    <tr style=\"text-align: right;\">\n",
              "      <th></th>\n",
              "      <th>geo</th>\n",
              "      <th>time</th>\n",
              "      <th>cell_phones_total</th>\n",
              "    </tr>\n",
              "  </thead>\n",
              "  <tbody>\n",
              "    <tr>\n",
              "      <th>0</th>\n",
              "      <td>abw</td>\n",
              "      <td>1960</td>\n",
              "      <td>0.0</td>\n",
              "    </tr>\n",
              "    <tr>\n",
              "      <th>1</th>\n",
              "      <td>abw</td>\n",
              "      <td>1965</td>\n",
              "      <td>0.0</td>\n",
              "    </tr>\n",
              "    <tr>\n",
              "      <th>2</th>\n",
              "      <td>abw</td>\n",
              "      <td>1970</td>\n",
              "      <td>0.0</td>\n",
              "    </tr>\n",
              "    <tr>\n",
              "      <th>3</th>\n",
              "      <td>abw</td>\n",
              "      <td>1975</td>\n",
              "      <td>0.0</td>\n",
              "    </tr>\n",
              "    <tr>\n",
              "      <th>4</th>\n",
              "      <td>abw</td>\n",
              "      <td>1976</td>\n",
              "      <td>0.0</td>\n",
              "    </tr>\n",
              "    <tr>\n",
              "      <th>5</th>\n",
              "      <td>abw</td>\n",
              "      <td>1977</td>\n",
              "      <td>0.0</td>\n",
              "    </tr>\n",
              "    <tr>\n",
              "      <th>6</th>\n",
              "      <td>abw</td>\n",
              "      <td>1978</td>\n",
              "      <td>0.0</td>\n",
              "    </tr>\n",
              "    <tr>\n",
              "      <th>7</th>\n",
              "      <td>abw</td>\n",
              "      <td>1979</td>\n",
              "      <td>0.0</td>\n",
              "    </tr>\n",
              "    <tr>\n",
              "      <th>8</th>\n",
              "      <td>abw</td>\n",
              "      <td>1980</td>\n",
              "      <td>0.0</td>\n",
              "    </tr>\n",
              "    <tr>\n",
              "      <th>9</th>\n",
              "      <td>abw</td>\n",
              "      <td>1981</td>\n",
              "      <td>0.0</td>\n",
              "    </tr>\n",
              "    <tr>\n",
              "      <th>10</th>\n",
              "      <td>abw</td>\n",
              "      <td>1982</td>\n",
              "      <td>0.0</td>\n",
              "    </tr>\n",
              "    <tr>\n",
              "      <th>11</th>\n",
              "      <td>abw</td>\n",
              "      <td>1983</td>\n",
              "      <td>0.0</td>\n",
              "    </tr>\n",
              "    <tr>\n",
              "      <th>12</th>\n",
              "      <td>abw</td>\n",
              "      <td>1984</td>\n",
              "      <td>0.0</td>\n",
              "    </tr>\n",
              "    <tr>\n",
              "      <th>13</th>\n",
              "      <td>abw</td>\n",
              "      <td>1985</td>\n",
              "      <td>0.0</td>\n",
              "    </tr>\n",
              "    <tr>\n",
              "      <th>14</th>\n",
              "      <td>abw</td>\n",
              "      <td>1986</td>\n",
              "      <td>0.0</td>\n",
              "    </tr>\n",
              "    <tr>\n",
              "      <th>15</th>\n",
              "      <td>abw</td>\n",
              "      <td>1987</td>\n",
              "      <td>0.0</td>\n",
              "    </tr>\n",
              "    <tr>\n",
              "      <th>16</th>\n",
              "      <td>abw</td>\n",
              "      <td>1988</td>\n",
              "      <td>0.0</td>\n",
              "    </tr>\n",
              "    <tr>\n",
              "      <th>17</th>\n",
              "      <td>abw</td>\n",
              "      <td>1989</td>\n",
              "      <td>0.0</td>\n",
              "    </tr>\n",
              "    <tr>\n",
              "      <th>18</th>\n",
              "      <td>abw</td>\n",
              "      <td>1990</td>\n",
              "      <td>0.0</td>\n",
              "    </tr>\n",
              "    <tr>\n",
              "      <th>19</th>\n",
              "      <td>abw</td>\n",
              "      <td>1991</td>\n",
              "      <td>0.0</td>\n",
              "    </tr>\n",
              "    <tr>\n",
              "      <th>20</th>\n",
              "      <td>abw</td>\n",
              "      <td>1992</td>\n",
              "      <td>20.0</td>\n",
              "    </tr>\n",
              "    <tr>\n",
              "      <th>21</th>\n",
              "      <td>abw</td>\n",
              "      <td>1995</td>\n",
              "      <td>1718.0</td>\n",
              "    </tr>\n",
              "    <tr>\n",
              "      <th>22</th>\n",
              "      <td>abw</td>\n",
              "      <td>1996</td>\n",
              "      <td>3000.0</td>\n",
              "    </tr>\n",
              "    <tr>\n",
              "      <th>23</th>\n",
              "      <td>abw</td>\n",
              "      <td>1997</td>\n",
              "      <td>3402.0</td>\n",
              "    </tr>\n",
              "    <tr>\n",
              "      <th>24</th>\n",
              "      <td>abw</td>\n",
              "      <td>1998</td>\n",
              "      <td>5380.0</td>\n",
              "    </tr>\n",
              "    <tr>\n",
              "      <th>25</th>\n",
              "      <td>abw</td>\n",
              "      <td>1999</td>\n",
              "      <td>12000.0</td>\n",
              "    </tr>\n",
              "    <tr>\n",
              "      <th>26</th>\n",
              "      <td>abw</td>\n",
              "      <td>2000</td>\n",
              "      <td>15000.0</td>\n",
              "    </tr>\n",
              "    <tr>\n",
              "      <th>27</th>\n",
              "      <td>abw</td>\n",
              "      <td>2001</td>\n",
              "      <td>53000.0</td>\n",
              "    </tr>\n",
              "    <tr>\n",
              "      <th>28</th>\n",
              "      <td>abw</td>\n",
              "      <td>2002</td>\n",
              "      <td>61800.0</td>\n",
              "    </tr>\n",
              "    <tr>\n",
              "      <th>29</th>\n",
              "      <td>abw</td>\n",
              "      <td>2003</td>\n",
              "      <td>69952.0</td>\n",
              "    </tr>\n",
              "    <tr>\n",
              "      <th>...</th>\n",
              "      <td>...</td>\n",
              "      <td>...</td>\n",
              "      <td>...</td>\n",
              "    </tr>\n",
              "    <tr>\n",
              "      <th>9185</th>\n",
              "      <td>zwe</td>\n",
              "      <td>1988</td>\n",
              "      <td>0.0</td>\n",
              "    </tr>\n",
              "    <tr>\n",
              "      <th>9186</th>\n",
              "      <td>zwe</td>\n",
              "      <td>1989</td>\n",
              "      <td>0.0</td>\n",
              "    </tr>\n",
              "    <tr>\n",
              "      <th>9187</th>\n",
              "      <td>zwe</td>\n",
              "      <td>1990</td>\n",
              "      <td>0.0</td>\n",
              "    </tr>\n",
              "    <tr>\n",
              "      <th>9188</th>\n",
              "      <td>zwe</td>\n",
              "      <td>1991</td>\n",
              "      <td>0.0</td>\n",
              "    </tr>\n",
              "    <tr>\n",
              "      <th>9189</th>\n",
              "      <td>zwe</td>\n",
              "      <td>1992</td>\n",
              "      <td>0.0</td>\n",
              "    </tr>\n",
              "    <tr>\n",
              "      <th>9190</th>\n",
              "      <td>zwe</td>\n",
              "      <td>1993</td>\n",
              "      <td>0.0</td>\n",
              "    </tr>\n",
              "    <tr>\n",
              "      <th>9191</th>\n",
              "      <td>zwe</td>\n",
              "      <td>1994</td>\n",
              "      <td>0.0</td>\n",
              "    </tr>\n",
              "    <tr>\n",
              "      <th>9192</th>\n",
              "      <td>zwe</td>\n",
              "      <td>1995</td>\n",
              "      <td>0.0</td>\n",
              "    </tr>\n",
              "    <tr>\n",
              "      <th>9193</th>\n",
              "      <td>zwe</td>\n",
              "      <td>1996</td>\n",
              "      <td>0.0</td>\n",
              "    </tr>\n",
              "    <tr>\n",
              "      <th>9194</th>\n",
              "      <td>zwe</td>\n",
              "      <td>1997</td>\n",
              "      <td>5734.0</td>\n",
              "    </tr>\n",
              "    <tr>\n",
              "      <th>9195</th>\n",
              "      <td>zwe</td>\n",
              "      <td>1998</td>\n",
              "      <td>19000.0</td>\n",
              "    </tr>\n",
              "    <tr>\n",
              "      <th>9196</th>\n",
              "      <td>zwe</td>\n",
              "      <td>1999</td>\n",
              "      <td>174000.0</td>\n",
              "    </tr>\n",
              "    <tr>\n",
              "      <th>9197</th>\n",
              "      <td>zwe</td>\n",
              "      <td>2000</td>\n",
              "      <td>266441.0</td>\n",
              "    </tr>\n",
              "    <tr>\n",
              "      <th>9198</th>\n",
              "      <td>zwe</td>\n",
              "      <td>2001</td>\n",
              "      <td>314002.0</td>\n",
              "    </tr>\n",
              "    <tr>\n",
              "      <th>9199</th>\n",
              "      <td>zwe</td>\n",
              "      <td>2002</td>\n",
              "      <td>338779.0</td>\n",
              "    </tr>\n",
              "    <tr>\n",
              "      <th>9200</th>\n",
              "      <td>zwe</td>\n",
              "      <td>2003</td>\n",
              "      <td>363651.0</td>\n",
              "    </tr>\n",
              "    <tr>\n",
              "      <th>9201</th>\n",
              "      <td>zwe</td>\n",
              "      <td>2004</td>\n",
              "      <td>425745.0</td>\n",
              "    </tr>\n",
              "    <tr>\n",
              "      <th>9202</th>\n",
              "      <td>zwe</td>\n",
              "      <td>2005</td>\n",
              "      <td>647110.0</td>\n",
              "    </tr>\n",
              "    <tr>\n",
              "      <th>9203</th>\n",
              "      <td>zwe</td>\n",
              "      <td>2006</td>\n",
              "      <td>849146.0</td>\n",
              "    </tr>\n",
              "    <tr>\n",
              "      <th>9204</th>\n",
              "      <td>zwe</td>\n",
              "      <td>2007</td>\n",
              "      <td>1225654.0</td>\n",
              "    </tr>\n",
              "    <tr>\n",
              "      <th>9205</th>\n",
              "      <td>zwe</td>\n",
              "      <td>2008</td>\n",
              "      <td>1654721.0</td>\n",
              "    </tr>\n",
              "    <tr>\n",
              "      <th>9206</th>\n",
              "      <td>zwe</td>\n",
              "      <td>2009</td>\n",
              "      <td>3991000.0</td>\n",
              "    </tr>\n",
              "    <tr>\n",
              "      <th>9207</th>\n",
              "      <td>zwe</td>\n",
              "      <td>2010</td>\n",
              "      <td>7700000.0</td>\n",
              "    </tr>\n",
              "    <tr>\n",
              "      <th>9208</th>\n",
              "      <td>zwe</td>\n",
              "      <td>2011</td>\n",
              "      <td>9200000.0</td>\n",
              "    </tr>\n",
              "    <tr>\n",
              "      <th>9209</th>\n",
              "      <td>zwe</td>\n",
              "      <td>2012</td>\n",
              "      <td>12613935.0</td>\n",
              "    </tr>\n",
              "    <tr>\n",
              "      <th>9210</th>\n",
              "      <td>zwe</td>\n",
              "      <td>2013</td>\n",
              "      <td>13633167.0</td>\n",
              "    </tr>\n",
              "    <tr>\n",
              "      <th>9211</th>\n",
              "      <td>zwe</td>\n",
              "      <td>2014</td>\n",
              "      <td>11798652.0</td>\n",
              "    </tr>\n",
              "    <tr>\n",
              "      <th>9212</th>\n",
              "      <td>zwe</td>\n",
              "      <td>2015</td>\n",
              "      <td>12757410.0</td>\n",
              "    </tr>\n",
              "    <tr>\n",
              "      <th>9213</th>\n",
              "      <td>zwe</td>\n",
              "      <td>2016</td>\n",
              "      <td>12878926.0</td>\n",
              "    </tr>\n",
              "    <tr>\n",
              "      <th>9214</th>\n",
              "      <td>zwe</td>\n",
              "      <td>2017</td>\n",
              "      <td>14092104.0</td>\n",
              "    </tr>\n",
              "  </tbody>\n",
              "</table>\n",
              "<p>9215 rows × 3 columns</p>\n",
              "</div>"
            ],
            "text/plain": [
              "      geo  time  cell_phones_total\n",
              "0     abw  1960                0.0\n",
              "1     abw  1965                0.0\n",
              "2     abw  1970                0.0\n",
              "3     abw  1975                0.0\n",
              "4     abw  1976                0.0\n",
              "5     abw  1977                0.0\n",
              "6     abw  1978                0.0\n",
              "7     abw  1979                0.0\n",
              "8     abw  1980                0.0\n",
              "9     abw  1981                0.0\n",
              "10    abw  1982                0.0\n",
              "11    abw  1983                0.0\n",
              "12    abw  1984                0.0\n",
              "13    abw  1985                0.0\n",
              "14    abw  1986                0.0\n",
              "15    abw  1987                0.0\n",
              "16    abw  1988                0.0\n",
              "17    abw  1989                0.0\n",
              "18    abw  1990                0.0\n",
              "19    abw  1991                0.0\n",
              "20    abw  1992               20.0\n",
              "21    abw  1995             1718.0\n",
              "22    abw  1996             3000.0\n",
              "23    abw  1997             3402.0\n",
              "24    abw  1998             5380.0\n",
              "25    abw  1999            12000.0\n",
              "26    abw  2000            15000.0\n",
              "27    abw  2001            53000.0\n",
              "28    abw  2002            61800.0\n",
              "29    abw  2003            69952.0\n",
              "...   ...   ...                ...\n",
              "9185  zwe  1988                0.0\n",
              "9186  zwe  1989                0.0\n",
              "9187  zwe  1990                0.0\n",
              "9188  zwe  1991                0.0\n",
              "9189  zwe  1992                0.0\n",
              "9190  zwe  1993                0.0\n",
              "9191  zwe  1994                0.0\n",
              "9192  zwe  1995                0.0\n",
              "9193  zwe  1996                0.0\n",
              "9194  zwe  1997             5734.0\n",
              "9195  zwe  1998            19000.0\n",
              "9196  zwe  1999           174000.0\n",
              "9197  zwe  2000           266441.0\n",
              "9198  zwe  2001           314002.0\n",
              "9199  zwe  2002           338779.0\n",
              "9200  zwe  2003           363651.0\n",
              "9201  zwe  2004           425745.0\n",
              "9202  zwe  2005           647110.0\n",
              "9203  zwe  2006           849146.0\n",
              "9204  zwe  2007          1225654.0\n",
              "9205  zwe  2008          1654721.0\n",
              "9206  zwe  2009          3991000.0\n",
              "9207  zwe  2010          7700000.0\n",
              "9208  zwe  2011          9200000.0\n",
              "9209  zwe  2012         12613935.0\n",
              "9210  zwe  2013         13633167.0\n",
              "9211  zwe  2014         11798652.0\n",
              "9212  zwe  2015         12757410.0\n",
              "9213  zwe  2016         12878926.0\n",
              "9214  zwe  2017         14092104.0\n",
              "\n",
              "[9215 rows x 3 columns]"
            ]
          },
          "metadata": {
            "tags": []
          },
          "execution_count": 2
        }
      ]
    },
    {
      "metadata": {
        "id": "hQ5pDJKkEVaD",
        "colab_type": "code",
        "colab": {
          "base_uri": "https://localhost:8080/",
          "height": 34
        },
        "outputId": "a5410b35-2ecf-444d-9e6f-d77419b02937"
      },
      "cell_type": "code",
      "source": [
        "cell_phones.shape"
      ],
      "execution_count": 3,
      "outputs": [
        {
          "output_type": "execute_result",
          "data": {
            "text/plain": [
              "(9215, 3)"
            ]
          },
          "metadata": {
            "tags": []
          },
          "execution_count": 3
        }
      ]
    },
    {
      "metadata": {
        "id": "H4sa9sRVlmaE",
        "colab_type": "code",
        "colab": {
          "base_uri": "https://localhost:8080/",
          "height": 1071
        },
        "outputId": "9c2bac2a-d6ec-4c88-b08f-2d1a309032a0"
      },
      "cell_type": "code",
      "source": [
        "cell_phones['geo'].value_counts()"
      ],
      "execution_count": 20,
      "outputs": [
        {
          "output_type": "execute_result",
          "data": {
            "text/plain": [
              "cyp            46\n",
              "fra            46\n",
              "ukr            46\n",
              "syr            46\n",
              "tur            46\n",
              "nic            46\n",
              "dnk            46\n",
              "com            46\n",
              "pak            46\n",
              "moz            46\n",
              "mwi            46\n",
              "ind            46\n",
              "irq            46\n",
              "gnb            46\n",
              "deu            46\n",
              "zwe            46\n",
              "btn            46\n",
              "mar            46\n",
              "bdi            46\n",
              "pry            46\n",
              "phl            46\n",
              "ltu            46\n",
              "hti            46\n",
              "slv            46\n",
              "jpn            46\n",
              "lka            46\n",
              "bra            46\n",
              "cri            46\n",
              "nor            46\n",
              "mlt            46\n",
              "               ..\n",
              "esp            43\n",
              "sgp            42\n",
              "sle            42\n",
              "abw            41\n",
              "cym            41\n",
              "kna            41\n",
              "atg            39\n",
              "qat            38\n",
              "are            36\n",
              "mhl            36\n",
              "nru            35\n",
              "gum            33\n",
              "asm            30\n",
              "vir            28\n",
              "mnp            28\n",
              "tca            28\n",
              "isr            28\n",
              "sau            28\n",
              "smr            27\n",
              "vgb            26\n",
              "pse            22\n",
              "lie            21\n",
              "tls            16\n",
              "srb            14\n",
              "mne            14\n",
              "plw            14\n",
              "ssd             8\n",
              "nld_curacao     8\n",
              "kos             6\n",
              "sxm             1\n",
              "Name: geo, Length: 214, dtype: int64"
            ]
          },
          "metadata": {
            "tags": []
          },
          "execution_count": 20
        }
      ]
    },
    {
      "metadata": {
        "id": "VLpkMLLSmzZ2",
        "colab_type": "code",
        "colab": {
          "base_uri": "https://localhost:8080/",
          "height": 85
        },
        "outputId": "f1cf0084-8dc0-49d1-d8ce-f06b8864886b"
      },
      "cell_type": "code",
      "source": [
        "cell_phones.isnull().sum()"
      ],
      "execution_count": 24,
      "outputs": [
        {
          "output_type": "execute_result",
          "data": {
            "text/plain": [
              "geo                  0\n",
              "time                 0\n",
              "cell_phones_total    0\n",
              "dtype: int64"
            ]
          },
          "metadata": {
            "tags": []
          },
          "execution_count": 24
        }
      ]
    },
    {
      "metadata": {
        "id": "V_PoySEeAijX",
        "colab_type": "code",
        "colab": {
          "base_uri": "https://localhost:8080/",
          "height": 1969
        },
        "outputId": "c7ecdc6e-8f02-4119-ae5e-2e76faff5a57"
      },
      "cell_type": "code",
      "source": [
        "population"
      ],
      "execution_count": 4,
      "outputs": [
        {
          "output_type": "execute_result",
          "data": {
            "text/html": [
              "<div>\n",
              "<style scoped>\n",
              "    .dataframe tbody tr th:only-of-type {\n",
              "        vertical-align: middle;\n",
              "    }\n",
              "\n",
              "    .dataframe tbody tr th {\n",
              "        vertical-align: top;\n",
              "    }\n",
              "\n",
              "    .dataframe thead th {\n",
              "        text-align: right;\n",
              "    }\n",
              "</style>\n",
              "<table border=\"1\" class=\"dataframe\">\n",
              "  <thead>\n",
              "    <tr style=\"text-align: right;\">\n",
              "      <th></th>\n",
              "      <th>geo</th>\n",
              "      <th>time</th>\n",
              "      <th>population_total</th>\n",
              "    </tr>\n",
              "  </thead>\n",
              "  <tbody>\n",
              "    <tr>\n",
              "      <th>0</th>\n",
              "      <td>afg</td>\n",
              "      <td>1800</td>\n",
              "      <td>3280000</td>\n",
              "    </tr>\n",
              "    <tr>\n",
              "      <th>1</th>\n",
              "      <td>afg</td>\n",
              "      <td>1801</td>\n",
              "      <td>3280000</td>\n",
              "    </tr>\n",
              "    <tr>\n",
              "      <th>2</th>\n",
              "      <td>afg</td>\n",
              "      <td>1802</td>\n",
              "      <td>3280000</td>\n",
              "    </tr>\n",
              "    <tr>\n",
              "      <th>3</th>\n",
              "      <td>afg</td>\n",
              "      <td>1803</td>\n",
              "      <td>3280000</td>\n",
              "    </tr>\n",
              "    <tr>\n",
              "      <th>4</th>\n",
              "      <td>afg</td>\n",
              "      <td>1804</td>\n",
              "      <td>3280000</td>\n",
              "    </tr>\n",
              "    <tr>\n",
              "      <th>5</th>\n",
              "      <td>afg</td>\n",
              "      <td>1805</td>\n",
              "      <td>3280000</td>\n",
              "    </tr>\n",
              "    <tr>\n",
              "      <th>6</th>\n",
              "      <td>afg</td>\n",
              "      <td>1806</td>\n",
              "      <td>3280000</td>\n",
              "    </tr>\n",
              "    <tr>\n",
              "      <th>7</th>\n",
              "      <td>afg</td>\n",
              "      <td>1807</td>\n",
              "      <td>3280000</td>\n",
              "    </tr>\n",
              "    <tr>\n",
              "      <th>8</th>\n",
              "      <td>afg</td>\n",
              "      <td>1808</td>\n",
              "      <td>3280000</td>\n",
              "    </tr>\n",
              "    <tr>\n",
              "      <th>9</th>\n",
              "      <td>afg</td>\n",
              "      <td>1809</td>\n",
              "      <td>3280000</td>\n",
              "    </tr>\n",
              "    <tr>\n",
              "      <th>10</th>\n",
              "      <td>afg</td>\n",
              "      <td>1810</td>\n",
              "      <td>3280000</td>\n",
              "    </tr>\n",
              "    <tr>\n",
              "      <th>11</th>\n",
              "      <td>afg</td>\n",
              "      <td>1811</td>\n",
              "      <td>3280779</td>\n",
              "    </tr>\n",
              "    <tr>\n",
              "      <th>12</th>\n",
              "      <td>afg</td>\n",
              "      <td>1812</td>\n",
              "      <td>3282342</td>\n",
              "    </tr>\n",
              "    <tr>\n",
              "      <th>13</th>\n",
              "      <td>afg</td>\n",
              "      <td>1813</td>\n",
              "      <td>3284692</td>\n",
              "    </tr>\n",
              "    <tr>\n",
              "      <th>14</th>\n",
              "      <td>afg</td>\n",
              "      <td>1814</td>\n",
              "      <td>3287834</td>\n",
              "    </tr>\n",
              "    <tr>\n",
              "      <th>15</th>\n",
              "      <td>afg</td>\n",
              "      <td>1815</td>\n",
              "      <td>3291770</td>\n",
              "    </tr>\n",
              "    <tr>\n",
              "      <th>16</th>\n",
              "      <td>afg</td>\n",
              "      <td>1816</td>\n",
              "      <td>3296506</td>\n",
              "    </tr>\n",
              "    <tr>\n",
              "      <th>17</th>\n",
              "      <td>afg</td>\n",
              "      <td>1817</td>\n",
              "      <td>3302044</td>\n",
              "    </tr>\n",
              "    <tr>\n",
              "      <th>18</th>\n",
              "      <td>afg</td>\n",
              "      <td>1818</td>\n",
              "      <td>3308390</td>\n",
              "    </tr>\n",
              "    <tr>\n",
              "      <th>19</th>\n",
              "      <td>afg</td>\n",
              "      <td>1819</td>\n",
              "      <td>3315547</td>\n",
              "    </tr>\n",
              "    <tr>\n",
              "      <th>20</th>\n",
              "      <td>afg</td>\n",
              "      <td>1820</td>\n",
              "      <td>3323519</td>\n",
              "    </tr>\n",
              "    <tr>\n",
              "      <th>21</th>\n",
              "      <td>afg</td>\n",
              "      <td>1821</td>\n",
              "      <td>3332311</td>\n",
              "    </tr>\n",
              "    <tr>\n",
              "      <th>22</th>\n",
              "      <td>afg</td>\n",
              "      <td>1822</td>\n",
              "      <td>3341926</td>\n",
              "    </tr>\n",
              "    <tr>\n",
              "      <th>23</th>\n",
              "      <td>afg</td>\n",
              "      <td>1823</td>\n",
              "      <td>3352368</td>\n",
              "    </tr>\n",
              "    <tr>\n",
              "      <th>24</th>\n",
              "      <td>afg</td>\n",
              "      <td>1824</td>\n",
              "      <td>3363642</td>\n",
              "    </tr>\n",
              "    <tr>\n",
              "      <th>25</th>\n",
              "      <td>afg</td>\n",
              "      <td>1825</td>\n",
              "      <td>3375751</td>\n",
              "    </tr>\n",
              "    <tr>\n",
              "      <th>26</th>\n",
              "      <td>afg</td>\n",
              "      <td>1826</td>\n",
              "      <td>3388701</td>\n",
              "    </tr>\n",
              "    <tr>\n",
              "      <th>27</th>\n",
              "      <td>afg</td>\n",
              "      <td>1827</td>\n",
              "      <td>3402494</td>\n",
              "    </tr>\n",
              "    <tr>\n",
              "      <th>28</th>\n",
              "      <td>afg</td>\n",
              "      <td>1828</td>\n",
              "      <td>3417136</td>\n",
              "    </tr>\n",
              "    <tr>\n",
              "      <th>29</th>\n",
              "      <td>afg</td>\n",
              "      <td>1829</td>\n",
              "      <td>3432630</td>\n",
              "    </tr>\n",
              "    <tr>\n",
              "      <th>...</th>\n",
              "      <td>...</td>\n",
              "      <td>...</td>\n",
              "      <td>...</td>\n",
              "    </tr>\n",
              "    <tr>\n",
              "      <th>59267</th>\n",
              "      <td>zwe</td>\n",
              "      <td>2071</td>\n",
              "      <td>36422461</td>\n",
              "    </tr>\n",
              "    <tr>\n",
              "      <th>59268</th>\n",
              "      <td>zwe</td>\n",
              "      <td>2072</td>\n",
              "      <td>36674084</td>\n",
              "    </tr>\n",
              "    <tr>\n",
              "      <th>59269</th>\n",
              "      <td>zwe</td>\n",
              "      <td>2073</td>\n",
              "      <td>36918818</td>\n",
              "    </tr>\n",
              "    <tr>\n",
              "      <th>59270</th>\n",
              "      <td>zwe</td>\n",
              "      <td>2074</td>\n",
              "      <td>37156394</td>\n",
              "    </tr>\n",
              "    <tr>\n",
              "      <th>59271</th>\n",
              "      <td>zwe</td>\n",
              "      <td>2075</td>\n",
              "      <td>37386604</td>\n",
              "    </tr>\n",
              "    <tr>\n",
              "      <th>59272</th>\n",
              "      <td>zwe</td>\n",
              "      <td>2076</td>\n",
              "      <td>37609317</td>\n",
              "    </tr>\n",
              "    <tr>\n",
              "      <th>59273</th>\n",
              "      <td>zwe</td>\n",
              "      <td>2077</td>\n",
              "      <td>37824533</td>\n",
              "    </tr>\n",
              "    <tr>\n",
              "      <th>59274</th>\n",
              "      <td>zwe</td>\n",
              "      <td>2078</td>\n",
              "      <td>38032210</td>\n",
              "    </tr>\n",
              "    <tr>\n",
              "      <th>59275</th>\n",
              "      <td>zwe</td>\n",
              "      <td>2079</td>\n",
              "      <td>38232406</td>\n",
              "    </tr>\n",
              "    <tr>\n",
              "      <th>59276</th>\n",
              "      <td>zwe</td>\n",
              "      <td>2080</td>\n",
              "      <td>38425112</td>\n",
              "    </tr>\n",
              "    <tr>\n",
              "      <th>59277</th>\n",
              "      <td>zwe</td>\n",
              "      <td>2081</td>\n",
              "      <td>38610322</td>\n",
              "    </tr>\n",
              "    <tr>\n",
              "      <th>59278</th>\n",
              "      <td>zwe</td>\n",
              "      <td>2082</td>\n",
              "      <td>38787965</td>\n",
              "    </tr>\n",
              "    <tr>\n",
              "      <th>59279</th>\n",
              "      <td>zwe</td>\n",
              "      <td>2083</td>\n",
              "      <td>38957958</td>\n",
              "    </tr>\n",
              "    <tr>\n",
              "      <th>59280</th>\n",
              "      <td>zwe</td>\n",
              "      <td>2084</td>\n",
              "      <td>39120196</td>\n",
              "    </tr>\n",
              "    <tr>\n",
              "      <th>59281</th>\n",
              "      <td>zwe</td>\n",
              "      <td>2085</td>\n",
              "      <td>39274605</td>\n",
              "    </tr>\n",
              "    <tr>\n",
              "      <th>59282</th>\n",
              "      <td>zwe</td>\n",
              "      <td>2086</td>\n",
              "      <td>39421192</td>\n",
              "    </tr>\n",
              "    <tr>\n",
              "      <th>59283</th>\n",
              "      <td>zwe</td>\n",
              "      <td>2087</td>\n",
              "      <td>39559970</td>\n",
              "    </tr>\n",
              "    <tr>\n",
              "      <th>59284</th>\n",
              "      <td>zwe</td>\n",
              "      <td>2088</td>\n",
              "      <td>39691002</td>\n",
              "    </tr>\n",
              "    <tr>\n",
              "      <th>59285</th>\n",
              "      <td>zwe</td>\n",
              "      <td>2089</td>\n",
              "      <td>39814374</td>\n",
              "    </tr>\n",
              "    <tr>\n",
              "      <th>59286</th>\n",
              "      <td>zwe</td>\n",
              "      <td>2090</td>\n",
              "      <td>39930170</td>\n",
              "    </tr>\n",
              "    <tr>\n",
              "      <th>59287</th>\n",
              "      <td>zwe</td>\n",
              "      <td>2091</td>\n",
              "      <td>40038459</td>\n",
              "    </tr>\n",
              "    <tr>\n",
              "      <th>59288</th>\n",
              "      <td>zwe</td>\n",
              "      <td>2092</td>\n",
              "      <td>40139287</td>\n",
              "    </tr>\n",
              "    <tr>\n",
              "      <th>59289</th>\n",
              "      <td>zwe</td>\n",
              "      <td>2093</td>\n",
              "      <td>40232710</td>\n",
              "    </tr>\n",
              "    <tr>\n",
              "      <th>59290</th>\n",
              "      <td>zwe</td>\n",
              "      <td>2094</td>\n",
              "      <td>40318796</td>\n",
              "    </tr>\n",
              "    <tr>\n",
              "      <th>59291</th>\n",
              "      <td>zwe</td>\n",
              "      <td>2095</td>\n",
              "      <td>40397615</td>\n",
              "    </tr>\n",
              "    <tr>\n",
              "      <th>59292</th>\n",
              "      <td>zwe</td>\n",
              "      <td>2096</td>\n",
              "      <td>40469281</td>\n",
              "    </tr>\n",
              "    <tr>\n",
              "      <th>59293</th>\n",
              "      <td>zwe</td>\n",
              "      <td>2097</td>\n",
              "      <td>40533896</td>\n",
              "    </tr>\n",
              "    <tr>\n",
              "      <th>59294</th>\n",
              "      <td>zwe</td>\n",
              "      <td>2098</td>\n",
              "      <td>40591626</td>\n",
              "    </tr>\n",
              "    <tr>\n",
              "      <th>59295</th>\n",
              "      <td>zwe</td>\n",
              "      <td>2099</td>\n",
              "      <td>40642628</td>\n",
              "    </tr>\n",
              "    <tr>\n",
              "      <th>59296</th>\n",
              "      <td>zwe</td>\n",
              "      <td>2100</td>\n",
              "      <td>40687107</td>\n",
              "    </tr>\n",
              "  </tbody>\n",
              "</table>\n",
              "<p>59297 rows × 3 columns</p>\n",
              "</div>"
            ],
            "text/plain": [
              "       geo  time  population_total\n",
              "0      afg  1800           3280000\n",
              "1      afg  1801           3280000\n",
              "2      afg  1802           3280000\n",
              "3      afg  1803           3280000\n",
              "4      afg  1804           3280000\n",
              "5      afg  1805           3280000\n",
              "6      afg  1806           3280000\n",
              "7      afg  1807           3280000\n",
              "8      afg  1808           3280000\n",
              "9      afg  1809           3280000\n",
              "10     afg  1810           3280000\n",
              "11     afg  1811           3280779\n",
              "12     afg  1812           3282342\n",
              "13     afg  1813           3284692\n",
              "14     afg  1814           3287834\n",
              "15     afg  1815           3291770\n",
              "16     afg  1816           3296506\n",
              "17     afg  1817           3302044\n",
              "18     afg  1818           3308390\n",
              "19     afg  1819           3315547\n",
              "20     afg  1820           3323519\n",
              "21     afg  1821           3332311\n",
              "22     afg  1822           3341926\n",
              "23     afg  1823           3352368\n",
              "24     afg  1824           3363642\n",
              "25     afg  1825           3375751\n",
              "26     afg  1826           3388701\n",
              "27     afg  1827           3402494\n",
              "28     afg  1828           3417136\n",
              "29     afg  1829           3432630\n",
              "...    ...   ...               ...\n",
              "59267  zwe  2071          36422461\n",
              "59268  zwe  2072          36674084\n",
              "59269  zwe  2073          36918818\n",
              "59270  zwe  2074          37156394\n",
              "59271  zwe  2075          37386604\n",
              "59272  zwe  2076          37609317\n",
              "59273  zwe  2077          37824533\n",
              "59274  zwe  2078          38032210\n",
              "59275  zwe  2079          38232406\n",
              "59276  zwe  2080          38425112\n",
              "59277  zwe  2081          38610322\n",
              "59278  zwe  2082          38787965\n",
              "59279  zwe  2083          38957958\n",
              "59280  zwe  2084          39120196\n",
              "59281  zwe  2085          39274605\n",
              "59282  zwe  2086          39421192\n",
              "59283  zwe  2087          39559970\n",
              "59284  zwe  2088          39691002\n",
              "59285  zwe  2089          39814374\n",
              "59286  zwe  2090          39930170\n",
              "59287  zwe  2091          40038459\n",
              "59288  zwe  2092          40139287\n",
              "59289  zwe  2093          40232710\n",
              "59290  zwe  2094          40318796\n",
              "59291  zwe  2095          40397615\n",
              "59292  zwe  2096          40469281\n",
              "59293  zwe  2097          40533896\n",
              "59294  zwe  2098          40591626\n",
              "59295  zwe  2099          40642628\n",
              "59296  zwe  2100          40687107\n",
              "\n",
              "[59297 rows x 3 columns]"
            ]
          },
          "metadata": {
            "tags": []
          },
          "execution_count": 4
        }
      ]
    },
    {
      "metadata": {
        "id": "4ZwdhlSLEc9l",
        "colab_type": "code",
        "colab": {
          "base_uri": "https://localhost:8080/",
          "height": 34
        },
        "outputId": "28e070e9-059a-4969-9546-6e62ca23d55b"
      },
      "cell_type": "code",
      "source": [
        "population.shape"
      ],
      "execution_count": 5,
      "outputs": [
        {
          "output_type": "execute_result",
          "data": {
            "text/plain": [
              "(59297, 3)"
            ]
          },
          "metadata": {
            "tags": []
          },
          "execution_count": 5
        }
      ]
    },
    {
      "metadata": {
        "id": "9nKMjlvDmIYR",
        "colab_type": "code",
        "colab": {
          "base_uri": "https://localhost:8080/",
          "height": 1071
        },
        "outputId": "4aa127dd-1f55-4e11-e182-0123f57da294"
      },
      "cell_type": "code",
      "source": [
        "population['geo'].value_counts()"
      ],
      "execution_count": 22,
      "outputs": [
        {
          "output_type": "execute_result",
          "data": {
            "text/plain": [
              "cyp    301\n",
              "isl    301\n",
              "eri    301\n",
              "srb    301\n",
              "bhs    301\n",
              "svn    301\n",
              "cmr    301\n",
              "cze    301\n",
              "zmb    301\n",
              "nga    301\n",
              "cri    301\n",
              "aze    301\n",
              "ben    301\n",
              "ukr    301\n",
              "pak    301\n",
              "cod    301\n",
              "hos    301\n",
              "rou    301\n",
              "tkm    301\n",
              "bhr    301\n",
              "geo    301\n",
              "mli    301\n",
              "ssd    301\n",
              "arm    301\n",
              "tha    301\n",
              "mlt    301\n",
              "prt    301\n",
              "usa    301\n",
              "yem    301\n",
              "sle    301\n",
              "      ... \n",
              "jam    301\n",
              "tza    301\n",
              "uga    301\n",
              "kir    301\n",
              "mmr    301\n",
              "swe    301\n",
              "mus    301\n",
              "hun    301\n",
              "sur    301\n",
              "bra    301\n",
              "mkd    301\n",
              "mdg    301\n",
              "tuv    301\n",
              "dnk    301\n",
              "wsm    301\n",
              "aut    301\n",
              "hrv    301\n",
              "mne    301\n",
              "mda    301\n",
              "civ    301\n",
              "lso    301\n",
              "col    301\n",
              "lux    301\n",
              "stp    301\n",
              "gab    301\n",
              "bel    301\n",
              "ecu    301\n",
              "hkg    301\n",
              "bol    301\n",
              "plw    301\n",
              "Name: geo, Length: 197, dtype: int64"
            ]
          },
          "metadata": {
            "tags": []
          },
          "execution_count": 22
        }
      ]
    },
    {
      "metadata": {
        "id": "qcB599DCmkKk",
        "colab_type": "code",
        "colab": {
          "base_uri": "https://localhost:8080/",
          "height": 85
        },
        "outputId": "12bb316a-7817-4b69-f1a0-53934a642457"
      },
      "cell_type": "code",
      "source": [
        "population.isnull().sum()"
      ],
      "execution_count": 23,
      "outputs": [
        {
          "output_type": "execute_result",
          "data": {
            "text/plain": [
              "geo                 0\n",
              "time                0\n",
              "population_total    0\n",
              "dtype: int64"
            ]
          },
          "metadata": {
            "tags": []
          },
          "execution_count": 23
        }
      ]
    },
    {
      "metadata": {
        "id": "a92bBJjLAoQx",
        "colab_type": "code",
        "colab": {
          "base_uri": "https://localhost:8080/",
          "height": 270
        },
        "outputId": "e3f11516-d7a8-41d7-eee1-8c6ba1b26ef0"
      },
      "cell_type": "code",
      "source": [
        "geo_country_codes.head()"
      ],
      "execution_count": 6,
      "outputs": [
        {
          "output_type": "execute_result",
          "data": {
            "text/html": [
              "<div>\n",
              "<style scoped>\n",
              "    .dataframe tbody tr th:only-of-type {\n",
              "        vertical-align: middle;\n",
              "    }\n",
              "\n",
              "    .dataframe tbody tr th {\n",
              "        vertical-align: top;\n",
              "    }\n",
              "\n",
              "    .dataframe thead th {\n",
              "        text-align: right;\n",
              "    }\n",
              "</style>\n",
              "<table border=\"1\" class=\"dataframe\">\n",
              "  <thead>\n",
              "    <tr style=\"text-align: right;\">\n",
              "      <th></th>\n",
              "      <th>geo</th>\n",
              "      <th>alt_5</th>\n",
              "      <th>alternative_1</th>\n",
              "      <th>alternative_2</th>\n",
              "      <th>alternative_3</th>\n",
              "      <th>alternative_4_cdiac</th>\n",
              "      <th>arb1</th>\n",
              "      <th>arb2</th>\n",
              "      <th>arb3</th>\n",
              "      <th>arb4</th>\n",
              "      <th>...</th>\n",
              "      <th>latitude</th>\n",
              "      <th>longitude</th>\n",
              "      <th>main_religion_2008</th>\n",
              "      <th>country</th>\n",
              "      <th>pandg</th>\n",
              "      <th>un_state</th>\n",
              "      <th>unicode_region_subtag</th>\n",
              "      <th>upper_case_name</th>\n",
              "      <th>world_4region</th>\n",
              "      <th>world_6region</th>\n",
              "    </tr>\n",
              "  </thead>\n",
              "  <tbody>\n",
              "    <tr>\n",
              "      <th>0</th>\n",
              "      <td>abkh</td>\n",
              "      <td>NaN</td>\n",
              "      <td>NaN</td>\n",
              "      <td>NaN</td>\n",
              "      <td>NaN</td>\n",
              "      <td>NaN</td>\n",
              "      <td>NaN</td>\n",
              "      <td>NaN</td>\n",
              "      <td>NaN</td>\n",
              "      <td>NaN</td>\n",
              "      <td>...</td>\n",
              "      <td>NaN</td>\n",
              "      <td>NaN</td>\n",
              "      <td>NaN</td>\n",
              "      <td>Abkhazia</td>\n",
              "      <td>NaN</td>\n",
              "      <td>False</td>\n",
              "      <td>NaN</td>\n",
              "      <td>NaN</td>\n",
              "      <td>europe</td>\n",
              "      <td>europe_central_asia</td>\n",
              "    </tr>\n",
              "    <tr>\n",
              "      <th>1</th>\n",
              "      <td>abw</td>\n",
              "      <td>NaN</td>\n",
              "      <td>NaN</td>\n",
              "      <td>NaN</td>\n",
              "      <td>NaN</td>\n",
              "      <td>Aruba</td>\n",
              "      <td>NaN</td>\n",
              "      <td>NaN</td>\n",
              "      <td>NaN</td>\n",
              "      <td>NaN</td>\n",
              "      <td>...</td>\n",
              "      <td>12.50000</td>\n",
              "      <td>-69.96667</td>\n",
              "      <td>christian</td>\n",
              "      <td>Aruba</td>\n",
              "      <td>NaN</td>\n",
              "      <td>False</td>\n",
              "      <td>AW</td>\n",
              "      <td>ARUBA</td>\n",
              "      <td>americas</td>\n",
              "      <td>america</td>\n",
              "    </tr>\n",
              "    <tr>\n",
              "      <th>2</th>\n",
              "      <td>afg</td>\n",
              "      <td>NaN</td>\n",
              "      <td>Islamic Republic of Afghanistan</td>\n",
              "      <td>NaN</td>\n",
              "      <td>NaN</td>\n",
              "      <td>Afghanistan</td>\n",
              "      <td>NaN</td>\n",
              "      <td>NaN</td>\n",
              "      <td>NaN</td>\n",
              "      <td>NaN</td>\n",
              "      <td>...</td>\n",
              "      <td>33.00000</td>\n",
              "      <td>66.00000</td>\n",
              "      <td>muslim</td>\n",
              "      <td>Afghanistan</td>\n",
              "      <td>AFGHANISTAN</td>\n",
              "      <td>True</td>\n",
              "      <td>AF</td>\n",
              "      <td>AFGHANISTAN</td>\n",
              "      <td>asia</td>\n",
              "      <td>south_asia</td>\n",
              "    </tr>\n",
              "    <tr>\n",
              "      <th>3</th>\n",
              "      <td>ago</td>\n",
              "      <td>NaN</td>\n",
              "      <td>NaN</td>\n",
              "      <td>NaN</td>\n",
              "      <td>NaN</td>\n",
              "      <td>Angola</td>\n",
              "      <td>NaN</td>\n",
              "      <td>NaN</td>\n",
              "      <td>NaN</td>\n",
              "      <td>NaN</td>\n",
              "      <td>...</td>\n",
              "      <td>-12.50000</td>\n",
              "      <td>18.50000</td>\n",
              "      <td>christian</td>\n",
              "      <td>Angola</td>\n",
              "      <td>ANGOLA</td>\n",
              "      <td>True</td>\n",
              "      <td>AO</td>\n",
              "      <td>ANGOLA</td>\n",
              "      <td>africa</td>\n",
              "      <td>sub_saharan_africa</td>\n",
              "    </tr>\n",
              "    <tr>\n",
              "      <th>4</th>\n",
              "      <td>aia</td>\n",
              "      <td>NaN</td>\n",
              "      <td>NaN</td>\n",
              "      <td>NaN</td>\n",
              "      <td>NaN</td>\n",
              "      <td>NaN</td>\n",
              "      <td>NaN</td>\n",
              "      <td>NaN</td>\n",
              "      <td>NaN</td>\n",
              "      <td>NaN</td>\n",
              "      <td>...</td>\n",
              "      <td>18.21667</td>\n",
              "      <td>-63.05000</td>\n",
              "      <td>christian</td>\n",
              "      <td>Anguilla</td>\n",
              "      <td>NaN</td>\n",
              "      <td>False</td>\n",
              "      <td>AI</td>\n",
              "      <td>ANGUILLA</td>\n",
              "      <td>americas</td>\n",
              "      <td>america</td>\n",
              "    </tr>\n",
              "  </tbody>\n",
              "</table>\n",
              "<p>5 rows × 33 columns</p>\n",
              "</div>"
            ],
            "text/plain": [
              "    geo alt_5                    alternative_1 alternative_2 alternative_3  \\\n",
              "0  abkh   NaN                              NaN           NaN           NaN   \n",
              "1   abw   NaN                              NaN           NaN           NaN   \n",
              "2   afg   NaN  Islamic Republic of Afghanistan           NaN           NaN   \n",
              "3   ago   NaN                              NaN           NaN           NaN   \n",
              "4   aia   NaN                              NaN           NaN           NaN   \n",
              "\n",
              "  alternative_4_cdiac arb1 arb2 arb3 arb4         ...           latitude  \\\n",
              "0                 NaN  NaN  NaN  NaN  NaN         ...                NaN   \n",
              "1               Aruba  NaN  NaN  NaN  NaN         ...           12.50000   \n",
              "2         Afghanistan  NaN  NaN  NaN  NaN         ...           33.00000   \n",
              "3              Angola  NaN  NaN  NaN  NaN         ...          -12.50000   \n",
              "4                 NaN  NaN  NaN  NaN  NaN         ...           18.21667   \n",
              "\n",
              "  longitude main_religion_2008      country        pandg un_state  \\\n",
              "0       NaN                NaN     Abkhazia          NaN    False   \n",
              "1 -69.96667          christian        Aruba          NaN    False   \n",
              "2  66.00000             muslim  Afghanistan  AFGHANISTAN     True   \n",
              "3  18.50000          christian       Angola       ANGOLA     True   \n",
              "4 -63.05000          christian     Anguilla          NaN    False   \n",
              "\n",
              "  unicode_region_subtag  upper_case_name world_4region        world_6region  \n",
              "0                   NaN              NaN        europe  europe_central_asia  \n",
              "1                    AW            ARUBA      americas              america  \n",
              "2                    AF      AFGHANISTAN          asia           south_asia  \n",
              "3                    AO           ANGOLA        africa   sub_saharan_africa  \n",
              "4                    AI         ANGUILLA      americas              america  \n",
              "\n",
              "[5 rows x 33 columns]"
            ]
          },
          "metadata": {
            "tags": []
          },
          "execution_count": 6
        }
      ]
    },
    {
      "metadata": {
        "id": "AZmVTeCsX9RC",
        "colab_type": "text"
      },
      "cell_type": "markdown",
      "source": [
        "## Part 1. Join data"
      ]
    },
    {
      "metadata": {
        "id": "GLzX58u4SfEy",
        "colab_type": "text"
      },
      "cell_type": "markdown",
      "source": [
        "First, join the `cell_phones` and `population` dataframes (with an inner join on `geo` and `time`).\n",
        "\n",
        "The resulting dataframe's shape should be: (8590, 4)"
      ]
    },
    {
      "metadata": {
        "id": "0Kta3mYbaz0y",
        "colab_type": "code",
        "colab": {}
      },
      "cell_type": "code",
      "source": [
        "cell_phones_filter = cell_phones.drop(cell_phones[cell_phones['cell_phones_total'] < 1].index)"
      ],
      "execution_count": 0,
      "outputs": []
    },
    {
      "metadata": {
        "id": "HwCiYL9UbXzl",
        "colab_type": "code",
        "colab": {
          "base_uri": "https://localhost:8080/",
          "height": 34
        },
        "outputId": "35dd1f78-5bb1-4564-dcc5-2873ee6522fe"
      },
      "cell_type": "code",
      "source": [
        "cell_phones_filter.shape"
      ],
      "execution_count": 8,
      "outputs": [
        {
          "output_type": "execute_result",
          "data": {
            "text/plain": [
              "(5157, 3)"
            ]
          },
          "metadata": {
            "tags": []
          },
          "execution_count": 8
        }
      ]
    },
    {
      "metadata": {
        "id": "63FwSnK0fx5o",
        "colab_type": "code",
        "colab": {
          "base_uri": "https://localhost:8080/",
          "height": 204
        },
        "outputId": "6022baed-3ada-46d0-be46-e4bd508d005c"
      },
      "cell_type": "code",
      "source": [
        "cell_phones_filter.head()"
      ],
      "execution_count": 9,
      "outputs": [
        {
          "output_type": "execute_result",
          "data": {
            "text/html": [
              "<div>\n",
              "<style scoped>\n",
              "    .dataframe tbody tr th:only-of-type {\n",
              "        vertical-align: middle;\n",
              "    }\n",
              "\n",
              "    .dataframe tbody tr th {\n",
              "        vertical-align: top;\n",
              "    }\n",
              "\n",
              "    .dataframe thead th {\n",
              "        text-align: right;\n",
              "    }\n",
              "</style>\n",
              "<table border=\"1\" class=\"dataframe\">\n",
              "  <thead>\n",
              "    <tr style=\"text-align: right;\">\n",
              "      <th></th>\n",
              "      <th>geo</th>\n",
              "      <th>time</th>\n",
              "      <th>cell_phones_total</th>\n",
              "    </tr>\n",
              "  </thead>\n",
              "  <tbody>\n",
              "    <tr>\n",
              "      <th>20</th>\n",
              "      <td>abw</td>\n",
              "      <td>1992</td>\n",
              "      <td>20.0</td>\n",
              "    </tr>\n",
              "    <tr>\n",
              "      <th>21</th>\n",
              "      <td>abw</td>\n",
              "      <td>1995</td>\n",
              "      <td>1718.0</td>\n",
              "    </tr>\n",
              "    <tr>\n",
              "      <th>22</th>\n",
              "      <td>abw</td>\n",
              "      <td>1996</td>\n",
              "      <td>3000.0</td>\n",
              "    </tr>\n",
              "    <tr>\n",
              "      <th>23</th>\n",
              "      <td>abw</td>\n",
              "      <td>1997</td>\n",
              "      <td>3402.0</td>\n",
              "    </tr>\n",
              "    <tr>\n",
              "      <th>24</th>\n",
              "      <td>abw</td>\n",
              "      <td>1998</td>\n",
              "      <td>5380.0</td>\n",
              "    </tr>\n",
              "  </tbody>\n",
              "</table>\n",
              "</div>"
            ],
            "text/plain": [
              "    geo  time  cell_phones_total\n",
              "20  abw  1992               20.0\n",
              "21  abw  1995             1718.0\n",
              "22  abw  1996             3000.0\n",
              "23  abw  1997             3402.0\n",
              "24  abw  1998             5380.0"
            ]
          },
          "metadata": {
            "tags": []
          },
          "execution_count": 9
        }
      ]
    },
    {
      "metadata": {
        "id": "eeSQOABji5Sw",
        "colab_type": "code",
        "colab": {}
      },
      "cell_type": "code",
      "source": [
        "population_filter = population.drop(population[population['time'] < 1992].index)"
      ],
      "execution_count": 0,
      "outputs": []
    },
    {
      "metadata": {
        "id": "3LebZ6I2kLZO",
        "colab_type": "code",
        "colab": {
          "base_uri": "https://localhost:8080/",
          "height": 204
        },
        "outputId": "cb65f64e-0aa6-4f90-81d5-263433819be7"
      },
      "cell_type": "code",
      "source": [
        "population_filter.head()"
      ],
      "execution_count": 12,
      "outputs": [
        {
          "output_type": "execute_result",
          "data": {
            "text/html": [
              "<div>\n",
              "<style scoped>\n",
              "    .dataframe tbody tr th:only-of-type {\n",
              "        vertical-align: middle;\n",
              "    }\n",
              "\n",
              "    .dataframe tbody tr th {\n",
              "        vertical-align: top;\n",
              "    }\n",
              "\n",
              "    .dataframe thead th {\n",
              "        text-align: right;\n",
              "    }\n",
              "</style>\n",
              "<table border=\"1\" class=\"dataframe\">\n",
              "  <thead>\n",
              "    <tr style=\"text-align: right;\">\n",
              "      <th></th>\n",
              "      <th>geo</th>\n",
              "      <th>time</th>\n",
              "      <th>population_total</th>\n",
              "    </tr>\n",
              "  </thead>\n",
              "  <tbody>\n",
              "    <tr>\n",
              "      <th>192</th>\n",
              "      <td>afg</td>\n",
              "      <td>1992</td>\n",
              "      <td>13981231</td>\n",
              "    </tr>\n",
              "    <tr>\n",
              "      <th>193</th>\n",
              "      <td>afg</td>\n",
              "      <td>1993</td>\n",
              "      <td>15095099</td>\n",
              "    </tr>\n",
              "    <tr>\n",
              "      <th>194</th>\n",
              "      <td>afg</td>\n",
              "      <td>1994</td>\n",
              "      <td>16172719</td>\n",
              "    </tr>\n",
              "    <tr>\n",
              "      <th>195</th>\n",
              "      <td>afg</td>\n",
              "      <td>1995</td>\n",
              "      <td>17099541</td>\n",
              "    </tr>\n",
              "    <tr>\n",
              "      <th>196</th>\n",
              "      <td>afg</td>\n",
              "      <td>1996</td>\n",
              "      <td>17822884</td>\n",
              "    </tr>\n",
              "  </tbody>\n",
              "</table>\n",
              "</div>"
            ],
            "text/plain": [
              "     geo  time  population_total\n",
              "192  afg  1992          13981231\n",
              "193  afg  1993          15095099\n",
              "194  afg  1994          16172719\n",
              "195  afg  1995          17099541\n",
              "196  afg  1996          17822884"
            ]
          },
          "metadata": {
            "tags": []
          },
          "execution_count": 12
        }
      ]
    },
    {
      "metadata": {
        "id": "vhtu1DUSbgR3",
        "colab_type": "code",
        "colab": {}
      },
      "cell_type": "code",
      "source": [
        "population_filter = population_filter.drop(columns=['population_total'])"
      ],
      "execution_count": 0,
      "outputs": []
    },
    {
      "metadata": {
        "id": "ohMNfY4ikhZo",
        "colab_type": "code",
        "colab": {
          "base_uri": "https://localhost:8080/",
          "height": 34
        },
        "outputId": "52096949-7427-48ed-8b1b-575d4876bc20"
      },
      "cell_type": "code",
      "source": [
        "population_filter.shape"
      ],
      "execution_count": 14,
      "outputs": [
        {
          "output_type": "execute_result",
          "data": {
            "text/plain": [
              "(21473, 2)"
            ]
          },
          "metadata": {
            "tags": []
          },
          "execution_count": 14
        }
      ]
    },
    {
      "metadata": {
        "id": "KZuvsXVDJl54",
        "colab_type": "code",
        "colab": {}
      },
      "cell_type": "code",
      "source": [
        "cp_merged = pd.merge(cell_phones_filter, population_filter, how='inner', on='geo')"
      ],
      "execution_count": 0,
      "outputs": []
    },
    {
      "metadata": {
        "id": "Npza6sgiQKIi",
        "colab_type": "code",
        "colab": {
          "base_uri": "https://localhost:8080/",
          "height": 34
        },
        "outputId": "97c4165d-e02b-491e-de48-ed060b2abbab"
      },
      "cell_type": "code",
      "source": [
        "cp_merged.shape"
      ],
      "execution_count": 16,
      "outputs": [
        {
          "output_type": "execute_result",
          "data": {
            "text/plain": [
              "(527015, 4)"
            ]
          },
          "metadata": {
            "tags": []
          },
          "execution_count": 16
        }
      ]
    },
    {
      "metadata": {
        "id": "_wMh6eypc5vp",
        "colab_type": "code",
        "colab": {
          "base_uri": "https://localhost:8080/",
          "height": 204
        },
        "outputId": "e11f0fb3-5556-4605-bac4-12990ba3a387"
      },
      "cell_type": "code",
      "source": [
        "cp_merged.head()"
      ],
      "execution_count": 17,
      "outputs": [
        {
          "output_type": "execute_result",
          "data": {
            "text/html": [
              "<div>\n",
              "<style scoped>\n",
              "    .dataframe tbody tr th:only-of-type {\n",
              "        vertical-align: middle;\n",
              "    }\n",
              "\n",
              "    .dataframe tbody tr th {\n",
              "        vertical-align: top;\n",
              "    }\n",
              "\n",
              "    .dataframe thead th {\n",
              "        text-align: right;\n",
              "    }\n",
              "</style>\n",
              "<table border=\"1\" class=\"dataframe\">\n",
              "  <thead>\n",
              "    <tr style=\"text-align: right;\">\n",
              "      <th></th>\n",
              "      <th>geo</th>\n",
              "      <th>time_x</th>\n",
              "      <th>cell_phones_total</th>\n",
              "      <th>time_y</th>\n",
              "    </tr>\n",
              "  </thead>\n",
              "  <tbody>\n",
              "    <tr>\n",
              "      <th>0</th>\n",
              "      <td>afg</td>\n",
              "      <td>2002</td>\n",
              "      <td>25000.0</td>\n",
              "      <td>1992</td>\n",
              "    </tr>\n",
              "    <tr>\n",
              "      <th>1</th>\n",
              "      <td>afg</td>\n",
              "      <td>2002</td>\n",
              "      <td>25000.0</td>\n",
              "      <td>1993</td>\n",
              "    </tr>\n",
              "    <tr>\n",
              "      <th>2</th>\n",
              "      <td>afg</td>\n",
              "      <td>2002</td>\n",
              "      <td>25000.0</td>\n",
              "      <td>1994</td>\n",
              "    </tr>\n",
              "    <tr>\n",
              "      <th>3</th>\n",
              "      <td>afg</td>\n",
              "      <td>2002</td>\n",
              "      <td>25000.0</td>\n",
              "      <td>1995</td>\n",
              "    </tr>\n",
              "    <tr>\n",
              "      <th>4</th>\n",
              "      <td>afg</td>\n",
              "      <td>2002</td>\n",
              "      <td>25000.0</td>\n",
              "      <td>1996</td>\n",
              "    </tr>\n",
              "  </tbody>\n",
              "</table>\n",
              "</div>"
            ],
            "text/plain": [
              "   geo  time_x  cell_phones_total  time_y\n",
              "0  afg    2002            25000.0    1992\n",
              "1  afg    2002            25000.0    1993\n",
              "2  afg    2002            25000.0    1994\n",
              "3  afg    2002            25000.0    1995\n",
              "4  afg    2002            25000.0    1996"
            ]
          },
          "metadata": {
            "tags": []
          },
          "execution_count": 17
        }
      ]
    },
    {
      "metadata": {
        "id": "oBq-a5qAWs5X",
        "colab_type": "code",
        "colab": {}
      },
      "cell_type": "code",
      "source": [
        "# cp_merged = cp_merged.drop(cp_merged[cp_merged['time_x'] >= 1992].index)"
      ],
      "execution_count": 0,
      "outputs": []
    },
    {
      "metadata": {
        "id": "-yOjMrYvabXP",
        "colab_type": "code",
        "colab": {}
      },
      "cell_type": "code",
      "source": [
        "# cp_merged = cp_merged.drop(cp_merged[cp_merged['time_y'] >= 1992].index)"
      ],
      "execution_count": 0,
      "outputs": []
    },
    {
      "metadata": {
        "id": "mrIbHbhRYUWq",
        "colab_type": "code",
        "colab": {}
      },
      "cell_type": "code",
      "source": [
        "# cp_merged.shape"
      ],
      "execution_count": 0,
      "outputs": []
    },
    {
      "metadata": {
        "id": "oK96Uj7vYjFX",
        "colab_type": "text"
      },
      "cell_type": "markdown",
      "source": [
        "## Part 2. Make features"
      ]
    },
    {
      "metadata": {
        "id": "AD2fBNrOYzCG",
        "colab_type": "text"
      },
      "cell_type": "markdown",
      "source": [
        "Calculate the number of cell phones per person, and add this column onto your dataframe.\n",
        "\n",
        "(You've calculated correctly if you get 1.220 cell phones per person in the United States in 2017.)"
      ]
    },
    {
      "metadata": {
        "id": "wXI9nQthYnFK",
        "colab_type": "code",
        "colab": {}
      },
      "cell_type": "code",
      "source": [
        ""
      ],
      "execution_count": 0,
      "outputs": []
    },
    {
      "metadata": {
        "id": "S3QFdsnRZMH6",
        "colab_type": "text"
      },
      "cell_type": "markdown",
      "source": [
        "Modify the `geo` column to make the geo codes uppercase instead of lowercase."
      ]
    },
    {
      "metadata": {
        "id": "93ADij8_YkOq",
        "colab_type": "code",
        "colab": {}
      },
      "cell_type": "code",
      "source": [
        ""
      ],
      "execution_count": 0,
      "outputs": []
    },
    {
      "metadata": {
        "id": "hlPDAFCfaF6C",
        "colab_type": "text"
      },
      "cell_type": "markdown",
      "source": [
        "## Part 3. Process data"
      ]
    },
    {
      "metadata": {
        "id": "k-pudNWve2SQ",
        "colab_type": "text"
      },
      "cell_type": "markdown",
      "source": [
        "Use the describe function, to describe your dataframe's numeric columns, and then its non-numeric columns.\n",
        "\n",
        "(You'll see the time period ranges from 1960 to 2017, and there are 195 unique countries represented.)"
      ]
    },
    {
      "metadata": {
        "id": "g26yemKre2Cu",
        "colab_type": "code",
        "colab": {}
      },
      "cell_type": "code",
      "source": [
        ""
      ],
      "execution_count": 0,
      "outputs": []
    },
    {
      "metadata": {
        "id": "zALg-RrYaLcI",
        "colab_type": "text"
      },
      "cell_type": "markdown",
      "source": [
        "In 2017, what were the top 5 countries with the most cell phones total?\n",
        "\n",
        "Your list of countries should have these totals:\n",
        "\n",
        "| country | cell phones total |\n",
        "|:-------:|:-----------------:|\n",
        "|    ?    |     1,474,097,000 |\n",
        "|    ?    |     1,168,902,277 |\n",
        "|    ?    |       458,923,202 |\n",
        "|    ?    |       395,881,000 |\n",
        "|    ?    |       236,488,548 |\n",
        "\n"
      ]
    },
    {
      "metadata": {
        "id": "JdlWvezHaZxD",
        "colab_type": "code",
        "colab": {}
      },
      "cell_type": "code",
      "source": [
        "# This optional code formats float numbers with comma separators\n",
        "pd.options.display.float_format = '{:,}'.format"
      ],
      "execution_count": 0,
      "outputs": []
    },
    {
      "metadata": {
        "id": "smX8vzu4cyju",
        "colab_type": "code",
        "colab": {}
      },
      "cell_type": "code",
      "source": [
        ""
      ],
      "execution_count": 0,
      "outputs": []
    },
    {
      "metadata": {
        "id": "03V3Wln_h0dj",
        "colab_type": "text"
      },
      "cell_type": "markdown",
      "source": [
        "2017 was the first year that China had more cell phones than people.\n",
        "\n",
        "What was the first year that the USA had more cell phones than people?"
      ]
    },
    {
      "metadata": {
        "id": "KONQkQZ3haNC",
        "colab_type": "code",
        "colab": {}
      },
      "cell_type": "code",
      "source": [
        ""
      ],
      "execution_count": 0,
      "outputs": []
    },
    {
      "metadata": {
        "id": "6J7iwMnTg8KZ",
        "colab_type": "text"
      },
      "cell_type": "markdown",
      "source": [
        "## Part 4. Reshape data"
      ]
    },
    {
      "metadata": {
        "id": "LP9InazRkUxG",
        "colab_type": "text"
      },
      "cell_type": "markdown",
      "source": [
        "Create a pivot table:\n",
        "- Columns: Years 2007—2017\n",
        "- Rows: China, India, United States, Indonesia, Brazil (order doesn't matter)\n",
        "- Values: Cell Phones Total\n",
        "\n",
        "The table's shape should be: (5, 11)"
      ]
    },
    {
      "metadata": {
        "id": "JD7mXXjLj4Ue",
        "colab_type": "code",
        "colab": {}
      },
      "cell_type": "code",
      "source": [
        ""
      ],
      "execution_count": 0,
      "outputs": []
    },
    {
      "metadata": {
        "id": "CNKTu2DCnAo6",
        "colab_type": "text"
      },
      "cell_type": "markdown",
      "source": [
        "#### OPTIONAL BONUS QUESTION!\n",
        "\n",
        "Sort these 5 countries, by biggest increase in cell phones from 2007 to 2017.\n",
        "\n",
        "Which country had 935,282,277 more cell phones in 2017 versus 2007?"
      ]
    },
    {
      "metadata": {
        "id": "O4Aecv1fmQlj",
        "colab_type": "code",
        "colab": {}
      },
      "cell_type": "code",
      "source": [
        ""
      ],
      "execution_count": 0,
      "outputs": []
    },
    {
      "metadata": {
        "id": "7iHkMsa3Rorh",
        "colab_type": "text"
      },
      "cell_type": "markdown",
      "source": [
        "If you have the time and curiosity, what other questions can you ask and answer with this data?"
      ]
    }
  ]
}